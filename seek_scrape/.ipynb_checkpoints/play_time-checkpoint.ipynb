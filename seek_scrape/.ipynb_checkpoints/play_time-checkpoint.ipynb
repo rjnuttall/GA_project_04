{
 "cells": [
  {
   "cell_type": "code",
   "execution_count": 1,
   "metadata": {},
   "outputs": [],
   "source": [
    "import requests\n",
    "from scrapy.selector import Selector\n",
    "import pandas as pd"
   ]
  },
  {
   "cell_type": "code",
   "execution_count": 2,
   "metadata": {},
   "outputs": [
    {
     "name": "stdout",
     "output_type": "stream",
     "text": [
      "200\n"
     ]
    }
   ],
   "source": [
    "homepage = 'https://www.seek.com.au/data-scientist-jobs'\n",
    "response  = requests.get(homepage)\n",
    "\n",
    "print (response.status_code)\n",
    "HTML = response.text"
   ]
  },
  {
   "cell_type": "code",
   "execution_count": 3,
   "metadata": {
    "scrolled": true
   },
   "outputs": [],
   "source": [
    "from bs4 import BeautifulSoup"
   ]
  },
  {
   "cell_type": "code",
   "execution_count": 4,
   "metadata": {},
   "outputs": [],
   "source": [
    "picker = Selector(text=HTML)"
   ]
  },
  {
   "cell_type": "code",
   "execution_count": 5,
   "metadata": {},
   "outputs": [],
   "source": [
    "#pick_subset.xpath('//a[@class=\"_2S5REPk\"]/@href').extract()\n",
    "listy = picker.xpath('//a[@class=\"_2S5REPk\"]/@href').extract()"
   ]
  },
  {
   "cell_type": "code",
   "execution_count": 6,
   "metadata": {
    "scrolled": true
   },
   "outputs": [
    {
     "data": {
      "text/plain": [
       "['/job/52400686?type=promoted#searchRequestToken=0a469760-f7cd-4ff2-a868-66f8c5832deb',\n",
       " '/job/52262284?type=promoted#searchRequestToken=0a469760-f7cd-4ff2-a868-66f8c5832deb',\n",
       " '/job/52505002?type=standout#searchRequestToken=0a469760-f7cd-4ff2-a868-66f8c5832deb',\n",
       " '/job/52507657?type=standout#searchRequestToken=0a469760-f7cd-4ff2-a868-66f8c5832deb',\n",
       " '/job/52498363?type=standout#searchRequestToken=0a469760-f7cd-4ff2-a868-66f8c5832deb',\n",
       " '/job/52499666?type=standout#searchRequestToken=0a469760-f7cd-4ff2-a868-66f8c5832deb',\n",
       " '/job/52499969?type=standout#searchRequestToken=0a469760-f7cd-4ff2-a868-66f8c5832deb',\n",
       " '/job/52505834?type=standout#searchRequestToken=0a469760-f7cd-4ff2-a868-66f8c5832deb',\n",
       " '/job/52512453?type=standout#searchRequestToken=0a469760-f7cd-4ff2-a868-66f8c5832deb',\n",
       " '/job/52516894?type=standout#searchRequestToken=0a469760-f7cd-4ff2-a868-66f8c5832deb',\n",
       " '/job/52490885?type=standard#searchRequestToken=0a469760-f7cd-4ff2-a868-66f8c5832deb',\n",
       " '/job/52490751?type=standard#searchRequestToken=0a469760-f7cd-4ff2-a868-66f8c5832deb',\n",
       " '/job/52494721?type=standard#searchRequestToken=0a469760-f7cd-4ff2-a868-66f8c5832deb',\n",
       " '/job/52485618?type=standard#searchRequestToken=0a469760-f7cd-4ff2-a868-66f8c5832deb',\n",
       " '/job/52502867?type=standard#searchRequestToken=0a469760-f7cd-4ff2-a868-66f8c5832deb',\n",
       " '/job/52511565?type=standout#searchRequestToken=0a469760-f7cd-4ff2-a868-66f8c5832deb',\n",
       " '/job/52500710?type=standout#searchRequestToken=0a469760-f7cd-4ff2-a868-66f8c5832deb',\n",
       " '/job/52515939?type=standard#searchRequestToken=0a469760-f7cd-4ff2-a868-66f8c5832deb',\n",
       " '/job/52495360?type=standard#searchRequestToken=0a469760-f7cd-4ff2-a868-66f8c5832deb',\n",
       " '/job/52511657?type=standout#searchRequestToken=0a469760-f7cd-4ff2-a868-66f8c5832deb',\n",
       " '/job/52429115?type=standout#searchRequestToken=0a469760-f7cd-4ff2-a868-66f8c5832deb',\n",
       " '/job/52459698?type=standard#searchRequestToken=0a469760-f7cd-4ff2-a868-66f8c5832deb']"
      ]
     },
     "execution_count": 6,
     "metadata": {},
     "output_type": "execute_result"
    }
   ],
   "source": [
    "listy"
   ]
  },
  {
   "cell_type": "code",
   "execution_count": 6,
   "metadata": {},
   "outputs": [],
   "source": [
    "# function to parse out the Seek job ad ID number from the url\n",
    "def grab_job_id(url):\n",
    "    id_num = re.findall('\\d+', url)\n",
    "    return int(id_num[0])"
   ]
  },
  {
   "cell_type": "code",
   "execution_count": 9,
   "metadata": {},
   "outputs": [],
   "source": [
    "job_ids = picker.xpath('//div[@class=\"_1UfdD4q\"]//article/@data-job-id').extract()"
   ]
  },
  {
   "cell_type": "code",
   "execution_count": 10,
   "metadata": {
    "scrolled": true
   },
   "outputs": [
    {
     "data": {
      "text/plain": [
       "['52538666',\n",
       " '52589876',\n",
       " '52580220',\n",
       " '52580219',\n",
       " '52551231',\n",
       " '52588221',\n",
       " '52582530',\n",
       " '52559687',\n",
       " '52567139',\n",
       " '52556648',\n",
       " '52505002',\n",
       " '52589876',\n",
       " '52552486',\n",
       " '52544346',\n",
       " '52552231',\n",
       " '52558658',\n",
       " '52524443',\n",
       " '52547469',\n",
       " '52574076',\n",
       " '52577051',\n",
       " '52572087',\n",
       " '52579298']"
      ]
     },
     "execution_count": 10,
     "metadata": {},
     "output_type": "execute_result"
    }
   ],
   "source": [
    "job_ids"
   ]
  },
  {
   "cell_type": "code",
   "execution_count": 11,
   "metadata": {
    "scrolled": true
   },
   "outputs": [
    {
     "data": {
      "text/plain": [
       "['52538666',\n",
       " '52589876',\n",
       " '52580220',\n",
       " '52580219',\n",
       " '52551231',\n",
       " '52588221',\n",
       " '52582530',\n",
       " '52559687',\n",
       " '52567139',\n",
       " '52556648',\n",
       " '52505002',\n",
       " '52589876',\n",
       " '52552486',\n",
       " '52544346',\n",
       " '52552231',\n",
       " '52558658',\n",
       " '52524443',\n",
       " '52547469',\n",
       " '52574076',\n",
       " '52577051',\n",
       " '52572087',\n",
       " '52579298',\n",
       " '52538666',\n",
       " '52589876',\n",
       " '52580220',\n",
       " '52580219',\n",
       " '52551231',\n",
       " '52588221',\n",
       " '52582530',\n",
       " '52559687',\n",
       " '52567139',\n",
       " '52556648',\n",
       " '52505002',\n",
       " '52589876',\n",
       " '52552486',\n",
       " '52544346',\n",
       " '52552231',\n",
       " '52558658',\n",
       " '52524443',\n",
       " '52547469',\n",
       " '52574076',\n",
       " '52577051',\n",
       " '52572087',\n",
       " '52579298']"
      ]
     },
     "execution_count": 11,
     "metadata": {},
     "output_type": "execute_result"
    }
   ],
   "source": [
    "job_ids + job_ids"
   ]
  },
  {
   "cell_type": "code",
   "execution_count": null,
   "metadata": {},
   "outputs": [],
   "source": []
  },
  {
   "cell_type": "code",
   "execution_count": null,
   "metadata": {},
   "outputs": [],
   "source": []
  },
  {
   "cell_type": "code",
   "execution_count": null,
   "metadata": {},
   "outputs": [],
   "source": []
  },
  {
   "cell_type": "code",
   "execution_count": 7,
   "metadata": {},
   "outputs": [
    {
     "data": {
      "text/plain": [
       "['/data-scientist-jobs?page=2']"
      ]
     },
     "execution_count": 7,
     "metadata": {},
     "output_type": "execute_result"
    }
   ],
   "source": [
    "n_pg = picker.xpath('//a[@data-automation=\"page-next\"]/@href').extract()\n",
    "n_pg"
   ]
  },
  {
   "cell_type": "code",
   "execution_count": null,
   "metadata": {},
   "outputs": [],
   "source": []
  },
  {
   "cell_type": "code",
   "execution_count": 8,
   "metadata": {},
   "outputs": [
    {
     "data": {
      "text/plain": [
       "['52400686',\n",
       " '52262284',\n",
       " '52505002',\n",
       " '52507657',\n",
       " '52498363',\n",
       " '52499666',\n",
       " '52499969',\n",
       " '52505834',\n",
       " '52512453',\n",
       " '52516894',\n",
       " '52490885',\n",
       " '52490751',\n",
       " '52494721',\n",
       " '52485618',\n",
       " '52502867',\n",
       " '52511565',\n",
       " '52500710',\n",
       " '52515939',\n",
       " '52495360',\n",
       " '52511657',\n",
       " '52429115',\n",
       " '52459698']"
      ]
     },
     "execution_count": 8,
     "metadata": {},
     "output_type": "execute_result"
    }
   ],
   "source": [
    "idk = picker.xpath('//article/@data-job-id').extract()\n",
    "idk\n"
   ]
  },
  {
   "cell_type": "code",
   "execution_count": 9,
   "metadata": {},
   "outputs": [],
   "source": [
    "from urllib.parse import urljoin"
   ]
  },
  {
   "cell_type": "code",
   "execution_count": 10,
   "metadata": {},
   "outputs": [
    {
     "data": {
      "text/plain": [
       "'https://www.seek.com.au/data-scientist-jobs?page=2'"
      ]
     },
     "execution_count": 10,
     "metadata": {},
     "output_type": "execute_result"
    }
   ],
   "source": [
    "next_page = urljoin('https://www.seek.com.au', n_pg[0])\n",
    "next_page"
   ]
  },
  {
   "cell_type": "code",
   "execution_count": null,
   "metadata": {},
   "outputs": [],
   "source": []
  },
  {
   "cell_type": "code",
   "execution_count": null,
   "metadata": {},
   "outputs": [],
   "source": []
  },
  {
   "cell_type": "code",
   "execution_count": 11,
   "metadata": {},
   "outputs": [],
   "source": [
    "# picker.xpath('//*[@div=\"data-search-sol-meta\"]')"
   ]
  },
  {
   "cell_type": "code",
   "execution_count": 12,
   "metadata": {},
   "outputs": [
    {
     "name": "stdout",
     "output_type": "stream",
     "text": [
      "200\n"
     ]
    }
   ],
   "source": [
    "job_pg = 'https://www.seek.com.au/job/52384101?type=promoted#searchRequestToken=d1269a88-84cf-474b-9fda-6861a568db33'\n",
    "response02  = requests.get(job_pg)\n",
    "\n",
    "print (response02.status_code)\n",
    "job_web = response02.text"
   ]
  },
  {
   "cell_type": "code",
   "execution_count": 13,
   "metadata": {},
   "outputs": [],
   "source": [
    "pick = Selector(text=job_web)"
   ]
  },
  {
   "cell_type": "code",
   "execution_count": 14,
   "metadata": {},
   "outputs": [
    {
     "data": {
      "text/plain": [
       "['Data Scientist/ Senior Data Analyst']"
      ]
     },
     "execution_count": 14,
     "metadata": {},
     "output_type": "execute_result"
    }
   ],
   "source": [
    "#job_title = pick.xpath('//h1[@data-automation=\"job-detail-title\"]/text()').extract()\n",
    "\n",
    "job_title = pick.xpath('//div[@class=\"FYwKg _6Gmbl_4\"]/h1/text()').extract()\n",
    "job_title"
   ]
  },
  {
   "cell_type": "code",
   "execution_count": 15,
   "metadata": {},
   "outputs": [],
   "source": [
    "# job_title_A = pick.xpath('//*[@id=\"app\"]/div/div[4]/div/div/div/div/div[1]/div/div/div[1]/div/div[1]/div/div/div[1]/div/div[2]/div/div[1]/div/div[1]/h1/text()').extract()\n",
    "# job_title_A"
   ]
  },
  {
   "cell_type": "code",
   "execution_count": 16,
   "metadata": {},
   "outputs": [
    {
     "data": {
      "text/plain": [
       "['Melbourne',\n",
       " 'Eastern Suburbs',\n",
       " 'Information & Communication Technology',\n",
       " 'Developers/Programmers']"
      ]
     },
     "execution_count": 16,
     "metadata": {},
     "output_type": "execute_result"
    }
   ],
   "source": [
    "stuff = pick.xpath('//div[@class=\"FYwKg _3VxpE_4\"]/div/text()').extract()\n",
    "stuff"
   ]
  },
  {
   "cell_type": "code",
   "execution_count": 17,
   "metadata": {},
   "outputs": [
    {
     "data": {
      "text/plain": [
       "'Eastern Suburbs'"
      ]
     },
     "execution_count": 17,
     "metadata": {},
     "output_type": "execute_result"
    }
   ],
   "source": [
    "stuff[1]"
   ]
  },
  {
   "cell_type": "code",
   "execution_count": 18,
   "metadata": {},
   "outputs": [],
   "source": [
    "#<div class=\"FYwKg PrHFr _1EtT-_4\">Full Time</div>"
   ]
  },
  {
   "cell_type": "code",
   "execution_count": 19,
   "metadata": {},
   "outputs": [
    {
     "data": {
      "text/plain": [
       "['Melbourne',\n",
       " 'Eastern Suburbs',\n",
       " 'Information & Communication Technology',\n",
       " 'Developers/Programmers',\n",
       " 'Full Time']"
      ]
     },
     "execution_count": 19,
     "metadata": {},
     "output_type": "execute_result"
    }
   ],
   "source": [
    "ftime = pick.xpath('//div[@class=\"FYwKg PrHFr _1EtT-_4\"]/text()').extract()\n",
    "ftime"
   ]
  },
  {
   "cell_type": "code",
   "execution_count": 20,
   "metadata": {},
   "outputs": [
    {
     "data": {
      "text/plain": [
       "['Agersens']"
      ]
     },
     "execution_count": 20,
     "metadata": {},
     "output_type": "execute_result"
    }
   ],
   "source": [
    "comp01 = pick.xpath('//span[@data-automation=\"advertiser-name\"]//text()').extract()\n",
    "comp01"
   ]
  },
  {
   "cell_type": "code",
   "execution_count": 21,
   "metadata": {},
   "outputs": [],
   "source": [
    "abc, edf = ftime, comp01"
   ]
  },
  {
   "cell_type": "code",
   "execution_count": 22,
   "metadata": {},
   "outputs": [
    {
     "data": {
      "text/plain": [
       "['Melbourne',\n",
       " 'Eastern Suburbs',\n",
       " 'Information & Communication Technology',\n",
       " 'Developers/Programmers',\n",
       " 'Full Time']"
      ]
     },
     "execution_count": 22,
     "metadata": {},
     "output_type": "execute_result"
    }
   ],
   "source": [
    "abc"
   ]
  },
  {
   "cell_type": "code",
   "execution_count": 23,
   "metadata": {},
   "outputs": [
    {
     "data": {
      "text/plain": [
       "['Agersens']"
      ]
     },
     "execution_count": 23,
     "metadata": {},
     "output_type": "execute_result"
    }
   ],
   "source": [
    "edf"
   ]
  },
  {
   "cell_type": "markdown",
   "metadata": {},
   "source": [
    "## Another test:"
   ]
  },
  {
   "cell_type": "code",
   "execution_count": 24,
   "metadata": {},
   "outputs": [
    {
     "name": "stdout",
     "output_type": "stream",
     "text": [
      "200\n"
     ]
    }
   ],
   "source": [
    "## One with a salary\n",
    "#job_pg_03 = 'https://www.seek.com.au/job/52485618?type=standard#searchRequestToken=c75bb421-6056-4fed-836b-a3639402f365'\n",
    "job_pg_03 = 'https://www.seek.com.au/job/52400686?type=prom...'\n",
    "response03  = requests.get(job_pg_03)\n",
    "\n",
    "print (response03.status_code)\n",
    "job_web03 = response03.text"
   ]
  },
  {
   "cell_type": "code",
   "execution_count": 25,
   "metadata": {},
   "outputs": [],
   "source": [
    "pick03 = Selector(text=job_web03)"
   ]
  },
  {
   "cell_type": "code",
   "execution_count": 26,
   "metadata": {},
   "outputs": [
    {
     "data": {
      "text/plain": [
       "['Perth', 'Mining, Resources & Energy', 'Analysis & Reporting', 'Full Time']"
      ]
     },
     "execution_count": 26,
     "metadata": {},
     "output_type": "execute_result"
    }
   ],
   "source": [
    "ftime03 = pick03.xpath('//div[@class=\"FYwKg PrHFr _1EtT-_4\"]/text()').extract()\n",
    "ftime03"
   ]
  },
  {
   "cell_type": "code",
   "execution_count": 27,
   "metadata": {},
   "outputs": [
    {
     "data": {
      "text/plain": [
       "4"
      ]
     },
     "execution_count": 27,
     "metadata": {},
     "output_type": "execute_result"
    }
   ],
   "source": [
    "len(ftime03)"
   ]
  },
  {
   "cell_type": "code",
   "execution_count": 28,
   "metadata": {},
   "outputs": [
    {
     "data": {
      "text/plain": [
       "'Analysis & Reporting'"
      ]
     },
     "execution_count": 28,
     "metadata": {},
     "output_type": "execute_result"
    }
   ],
   "source": [
    "ftime03[-2]"
   ]
  },
  {
   "cell_type": "code",
   "execution_count": 29,
   "metadata": {},
   "outputs": [],
   "source": [
    "##<a href=\"/companies/lendi-1010495\" class=\"FYwKg _2k9O2 iqOgn_4\" target=\"_self\">Lendi</a>"
   ]
  },
  {
   "cell_type": "code",
   "execution_count": 30,
   "metadata": {},
   "outputs": [
    {
     "data": {
      "text/plain": [
       "['Rio Tinto']"
      ]
     },
     "execution_count": 30,
     "metadata": {},
     "output_type": "execute_result"
    }
   ],
   "source": [
    "comp = pick03.xpath('//a[@class=\"FYwKg _2k9O2 iqOgn_4\"]/text()').extract()\n",
    "comp"
   ]
  },
  {
   "cell_type": "code",
   "execution_count": 31,
   "metadata": {},
   "outputs": [
    {
     "data": {
      "text/plain": [
       "['Rio Tinto']"
      ]
     },
     "execution_count": 31,
     "metadata": {},
     "output_type": "execute_result"
    }
   ],
   "source": [
    "comp03 = pick03.xpath('//span[@data-automation=\"advertiser-name\"]//text()').extract()\n",
    "comp03"
   ]
  },
  {
   "cell_type": "code",
   "execution_count": 41,
   "metadata": {},
   "outputs": [
    {
     "data": {
      "text/plain": [
       "['Full Time']"
      ]
     },
     "execution_count": 41,
     "metadata": {},
     "output_type": "execute_result"
    }
   ],
   "source": [
    "job_deet = pick03.xpath('//div[@data-automation=\"job-detail-work-type\"]//text()').extract()\n",
    "job_deet"
   ]
  },
  {
   "cell_type": "code",
   "execution_count": 42,
   "metadata": {},
   "outputs": [
    {
     "data": {
      "text/plain": [
       "['Perth', 'Mining, Resources & Energy', 'Analysis & Reporting']"
      ]
     },
     "execution_count": 42,
     "metadata": {},
     "output_type": "execute_result"
    }
   ],
   "source": [
    "job_loc = pick03.xpath('//div[@class=\"FYwKg _3VxpE_4\"]//text()').extract()\n",
    "job_loc"
   ]
  },
  {
   "cell_type": "code",
   "execution_count": 32,
   "metadata": {},
   "outputs": [],
   "source": [
    "details = pick03.xpath('//div[@data-automation=\"jobAdDetails\"]//text()').extract()"
   ]
  },
  {
   "cell_type": "code",
   "execution_count": 33,
   "metadata": {},
   "outputs": [
    {
     "data": {
      "text/plain": [
       "['Lead Data Engineer/ Scientist',\n",
       " ' ',\n",
       " ' ',\n",
       " 'Collaborate with diverse stakeholders in the development of technology prototypes and the deployment of automation technology',\n",
       " ' ',\n",
       " 'Join a high performing team recognised as technical experts in Automation systems within Rio Tinto Iron Ore',\n",
       " ' ',\n",
       " 'Newly created role with the ability to make a big impact!',\n",
       " ' ',\n",
       " 'About the role',\n",
       " ' ',\n",
       " 'All progress begins with pioneers. At Rio Tinto, it begins with you.',\n",
       " ' ',\n",
       " 'The Mining Technology team within the Sustaining Capital division for Rio Tinto Iron Ore (RTIO) is responsible for the development of the automation and technology strategy for the RTIO business, collaborating with partners on the development of technology prototypes and the deployment of automation technology.',\n",
       " ' ',\n",
       " 'An exciting opportunity currently exists for a \\xa0',\n",
       " 'Lead Data Engineer / Scientist',\n",
       " '\\xa0to join our Mining Technology team. In this newly created role, you will lead the development and execution activities in the digital portfolio allowing for a sophisticated decision automation platform that enables our operating sites to fully utilise the installed technology.\\xa0',\n",
       " ' ',\n",
       " 'Reporting to the Principal Automation & Tech Assurance you will:',\n",
       " ' ',\n",
       " ' ',\n",
       " 'Scope, build and own all aspects of data decision automation initiatives and set the standard for disciplined data engineering\\xa0',\n",
       " ' ',\n",
       " 'Own the automation data pipeline and work with owners of source data to continuously improve source systems',\n",
       " ' ',\n",
       " 'Develop and integrate mining technology processes and perform data exploration to identify mine productivity and safety improvement initiatives',\n",
       " ' ',\n",
       " 'Partner with various stakeholders to specify the appropriate solutions and methodologies for future deployments and ensure the pipeline of work addresses the requirements of the business',\n",
       " ' ',\n",
       " 'Support the integration of all technology systems within RTIO to maximise the value of technology investment',\n",
       " ' ',\n",
       " 'Drive whole of system decision making design when new technology is deployed (to enable automated decision making)',\n",
       " ' ',\n",
       " 'What you’ll bring',\n",
       " ' ',\n",
       " ' ',\n",
       " 'Data analytics experience and advanced level computing skills (MS Suite)',\n",
       " ' ',\n",
       " 'Data Technology-related training/ education (PowerBI, MSSQL, MySQL, Python etc)',\n",
       " ' ',\n",
       " 'Experience with designing and deploying technical solutions, which deliver tangible, ongoing value',\n",
       " ' ',\n",
       " 'Good working knowledge of existing safe work procedures and best practice',\n",
       " ' ',\n",
       " 'Facilitation skills and the ability to present technical information to a broad range of stakeholders',\n",
       " ' ',\n",
       " 'Strong interpersonal, communication and influencing skills',\n",
       " ' ',\n",
       " 'Tertiary qualifications in a technology-based discipline will be advantageous',\n",
       " ' ',\n",
       " 'Experience working in a mining and resource sector will be beneficial',\n",
       " ' ',\n",
       " 'Where you will be working',\n",
       " ' ',\n",
       " \"In the Pilbara region of Western Australia, Rio Tinto operates the world's largest integrated portfolio of iron ore assets with industry-leading margins. Our premium product suite, including our flagship Pilbara blend, drives strong customer relationships and is supported by technical and commercial marketing expertise. The iron ore business continues to be the world's largest autonomous truck operator and a proud leader in automated mining technologies\",\n",
       " ' ',\n",
       " 'This position is based in the \\xa0',\n",
       " 'Perth CBD at our Central Park',\n",
       " '\\xa0office working a Monday to Friday roster but there will be a requirement for frequent site travel.',\n",
       " ' ',\n",
       " 'What we offer',\n",
       " ' ',\n",
       " 'Be recognised for your contribution, your thinking and your hard work, and go home knowing you’ve helped the world progress.',\n",
       " ' ',\n",
       " ' ',\n",
       " 'A supportive and inclusive community environment',\n",
       " ' ',\n",
       " 'Career development & education assistance to further your technical or leadership ambitions',\n",
       " ' ',\n",
       " 'A competitive salary package reflective of your skills and experience with annual incentive program',\n",
       " ' ',\n",
       " 'Comprehensive medical benefits including subsidised private health insurance for employees and immediate family',\n",
       " ' ',\n",
       " 'Attractive employee share scheme, extensive salary sacrifice and salary packaging options, and exclusive employee discount schemes',\n",
       " ' ',\n",
       " 'Leave for all of life’s reasons (vacation/annual, paid parental, sick leave)',\n",
       " ' ',\n",
       " 'About Rio Tinto',\n",
       " ' ',\n",
       " 'Every idea, every innovation, every little thing the world calls ‘progress’ begins with a first step, and someone willing to take it: explorers, inventors, entrepreneurs. Pioneers.',\n",
       " ' ',\n",
       " 'For nearly 150 years, Rio Tinto has been a company of pioneers – generations of people spanning the globe, all with the grit and vision to produce materials essential to human progress. Our iron ore has shaped skylines from Shanghai to Sydney. Our aluminium – the world’s first to be certified “responsible” – helps planes fly and makes cars lighter. Our copper helps wind turbines power cities and our boron helps feed the world and explore the universe. Our diamonds help us celebrate the best parts of life.',\n",
       " ' ',\n",
       " 'Every Voice Matters',\n",
       " ' ',\n",
       " 'At Rio Tinto, we particularly welcome and encourage applications from Aboriginal and Torres Strait Islander people, women, the LGBTI+ community, mature workers, people with disabilities and people from different cultural backgrounds.',\n",
       " ' ',\n",
       " 'We are committed to an inclusive environment where people feel comfortable to be themselves. We want our people to feel that all voices are heard, all cultures respected and that a variety of perspectives are not only welcome – they are essential to our success. We treat each other fairly and with dignity regardless of race, gender, nationality, ethnic origin, religion, age, sexual orientation or anything else that makes us different.',\n",
       " ' ',\n",
       " 'This role is for applicants residing in or willing to permanently relocate to Western Australia. Rio Tinto offers Fly in and fly out options from Perth, our regional FIFO hubs and the opportunity to live in our residential towns where applicable.',\n",
       " ' ',\n",
       " 'Applications close on\\xa0Tuesday 8th June (Rio Tinto reserves the right to remove advertised roles prior to this date).']"
      ]
     },
     "execution_count": 33,
     "metadata": {},
     "output_type": "execute_result"
    }
   ],
   "source": [
    "details"
   ]
  },
  {
   "cell_type": "code",
   "execution_count": 34,
   "metadata": {},
   "outputs": [],
   "source": [
    "# <a href=\"/data-scientist-jobs?page=2\" rel=\"nofollow next\" class=\"_24YOjgT\" data-automation=\"page-next\" target=\"_self\">Next</a>  "
   ]
  },
  {
   "cell_type": "code",
   "execution_count": null,
   "metadata": {},
   "outputs": [],
   "source": []
  },
  {
   "cell_type": "markdown",
   "metadata": {},
   "source": [
    "## Another test:"
   ]
  },
  {
   "cell_type": "code",
   "execution_count": 35,
   "metadata": {},
   "outputs": [
    {
     "name": "stdout",
     "output_type": "stream",
     "text": [
      "200\n"
     ]
    }
   ],
   "source": [
    "## Another example for play\n",
    "\n",
    "job_pg_04 = 'https://www.seek.com.au/job/52374514?type=standard#searchRequestToken=b54c8ddf-ea5a-4503-bd16-66fef9ccc95e'\n",
    "response04  = requests.get(job_pg_04)\n",
    "\n",
    "print (response03.status_code)\n",
    "job_web04 = response04.text"
   ]
  },
  {
   "cell_type": "code",
   "execution_count": 36,
   "metadata": {},
   "outputs": [],
   "source": [
    "# look at class div for just location, then 'data-auot' tag for salary/FT-PT stuff ---- SHOULD BE ABLE TO SEP1"
   ]
  },
  {
   "cell_type": "code",
   "execution_count": 37,
   "metadata": {},
   "outputs": [],
   "source": [
    "select01 = Selector(text=job_web04)"
   ]
  },
  {
   "cell_type": "code",
   "execution_count": 38,
   "metadata": {},
   "outputs": [
    {
     "data": {
      "text/plain": [
       "('$140000', 'Full Time')"
      ]
     },
     "execution_count": 38,
     "metadata": {},
     "output_type": "execute_result"
    }
   ],
   "source": [
    "trial = select01.xpath('//div[@data-automation=\"job-detail-work-type\"]//text()').extract()\n",
    "trial[0], trial[1]"
   ]
  },
  {
   "cell_type": "code",
   "execution_count": 39,
   "metadata": {},
   "outputs": [
    {
     "data": {
      "text/plain": [
       "['Melbourne',\n",
       " 'Information & Communication Technology',\n",
       " 'Developers/Programmers']"
      ]
     },
     "execution_count": 39,
     "metadata": {},
     "output_type": "execute_result"
    }
   ],
   "source": [
    "trial_a = select01.xpath('//div[@class=\"FYwKg _3VxpE_4\"]//text()').extract()\n",
    "trial_a"
   ]
  },
  {
   "cell_type": "code",
   "execution_count": 40,
   "metadata": {},
   "outputs": [],
   "source": [
    "## NEED TO CHECK WITH OTHER ADS"
   ]
  },
  {
   "cell_type": "code",
   "execution_count": null,
   "metadata": {},
   "outputs": [],
   "source": []
  },
  {
   "cell_type": "code",
   "execution_count": null,
   "metadata": {},
   "outputs": [],
   "source": []
  },
  {
   "cell_type": "code",
   "execution_count": null,
   "metadata": {},
   "outputs": [],
   "source": []
  },
  {
   "cell_type": "code",
   "execution_count": 43,
   "metadata": {},
   "outputs": [
    {
     "name": "stdout",
     "output_type": "stream",
     "text": [
      "yeah\n"
     ]
    }
   ],
   "source": [
    "types = ['FT','PT','Con']\n",
    "\n",
    "if 'FT' in types:\n",
    "    print(\"yeah\")"
   ]
  },
  {
   "cell_type": "code",
   "execution_count": null,
   "metadata": {},
   "outputs": [],
   "source": []
  },
  {
   "cell_type": "code",
   "execution_count": null,
   "metadata": {},
   "outputs": [],
   "source": []
  },
  {
   "cell_type": "code",
   "execution_count": null,
   "metadata": {},
   "outputs": [],
   "source": []
  },
  {
   "cell_type": "code",
   "execution_count": null,
   "metadata": {},
   "outputs": [],
   "source": []
  },
  {
   "cell_type": "code",
   "execution_count": null,
   "metadata": {},
   "outputs": [],
   "source": []
  },
  {
   "cell_type": "code",
   "execution_count": null,
   "metadata": {},
   "outputs": [],
   "source": []
  }
 ],
 "metadata": {
  "kernelspec": {
   "display_name": "Python 3",
   "language": "python",
   "name": "python3"
  },
  "language_info": {
   "codemirror_mode": {
    "name": "ipython",
    "version": 3
   },
   "file_extension": ".py",
   "mimetype": "text/x-python",
   "name": "python",
   "nbconvert_exporter": "python",
   "pygments_lexer": "ipython3",
   "version": "3.8.5"
  }
 },
 "nbformat": 4,
 "nbformat_minor": 4
}
